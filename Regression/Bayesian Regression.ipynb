{
 "cells": [
  {
   "cell_type": "markdown",
   "id": "ee71236b",
   "metadata": {},
   "source": [
    "# Bayesian Regression\n",
    "\n",
    "- Bayesian Regression is similar to linear regression, but instead of finding a single \"optimal\" coefficient, it treats the weights as random variables with a probability distribution\n",
    "- This allows you to capture uncertainty in your predictions"
   ]
  },
  {
   "cell_type": "markdown",
   "id": "ad5b463d",
   "metadata": {},
   "source": [
    "Some concepts which are required to understand this are present in [Basics.md](../Basics.md)"
   ]
  },
  {
   "cell_type": "code",
   "execution_count": 5,
   "id": "785bd8cc",
   "metadata": {},
   "outputs": [
    {
     "data": {
      "image/png": "[encoded data removed]",
      "text/plain": [
       "<Figure size 640x480 with 1 Axes>"
      ]
     },
     "metadata": {},
     "output_type": "display_data"
    }
   ],
   "source": [
    "import torch \n",
    "import torch.nn as nn \n",
    "import matplotlib.pyplot as plt \n",
    "\n",
    "torch.manual_seed(42)\n",
    "\n",
    "X = torch.linspace(0,10,50).unsqueeze(1)\n",
    "true_w = 2.5 \n",
    "true_b = 1.0 \n",
    "\n",
    "y = true_w * X + true_b + torch.randn(X.size()) * 2\n",
    "\n",
    "plt.scatter(X.numpy(), y.numpy(), label = 'Synthetic Data')\n",
    "plt.xlabel('X')\n",
    "plt.ylabel('y')\n",
    "plt.legend()\n",
    "plt.title('Sythetic Data') \n",
    "plt.show()"
   ]
  },
  {
   "cell_type": "code",
   "execution_count": 12,
   "id": "7696d4fd",
   "metadata": {},
   "outputs": [],
   "source": [
    "class Bayesian_LinearRegression(nn.Module): \n",
    "    def __init__(self): \n",
    "        super(Bayesian_LinearRegression, self).__init__()\n",
    "        # Initialize weights and bias as learnable parameters\n",
    "        self.w = nn.Parameter(torch.randn(1, requires_grad=True)) # requires_grad=True is not required but it is good to have it for clarity\n",
    "        self.b = nn.Parameter(torch.randn(1, requires_grad=True)) # requires_grad=True is not required but it is good to have it for clarity\n",
    "\n",
    "    def forward(self, x): \n",
    "        return x * self.w + self.b\n",
    "    \n",
    "# Hyperparameters \n",
    "learning_rate = 0.001 \n",
    "prior_var = 1.0 # variance of Gaussian prior\n",
    "likelihood_var = 2.0 # variance of likelihood\n",
    "num_epochs = 1000"
   ]
  },
  {
   "cell_type": "code",
   "execution_count": 13,
   "id": "3ca83e65",
   "metadata": {},
   "outputs": [
    {
     "name": "stdout",
     "output_type": "stream",
     "text": [
      "Epoch 0, Loss: 1431.3929, w: 2.36, b: 0.41\n",
      "Epoch 200, Loss: 57.7973, w: 2.53, b: 0.96\n",
      "Epoch 400, Loss: 57.7099, w: 2.51, b: 1.08\n",
      "Epoch 600, Loss: 57.7052, w: 2.51, b: 1.11\n",
      "Epoch 800, Loss: 57.7050, w: 2.51, b: 1.12\n"
     ]
    }
   ],
   "source": [
    "model = Bayesian_LinearRegression()\n",
    "optimizer = torch.optim.SGD(model.parameters(), lr=learning_rate)\n",
    "\n",
    "for epoch in range(num_epochs): \n",
    "    optimizer.zero_grad()\n",
    "\n",
    "    y_pred = model(X)\n",
    "    # Negative log likelihood loss\n",
    "    # Likelihood term: (y - y_pred)^2 / (2*likelihood_var)\n",
    "    \n",
    "    nll_loss = ((y- y_pred)**2).sum() / (2 * likelihood_var)\n",
    "\n",
    "    # Prior term: w^2 / (2*prior_var) + b^2 / (2*prior_var)\n",
    "    prior = (model.w**2 + model.b**2) / (2 * prior_var)\n",
    "\n",
    "    loss = nll_loss + prior \n",
    "    loss.backward()\n",
    "    optimizer.step()\n",
    "\n",
    "    if epoch % 200 == 0:\n",
    "        print(f\"Epoch {epoch}, Loss: {loss.item():.4f}, w: {model.w.item():.2f}, b: {model.b.item():.2f}\")\n"
   ]
  },
  {
   "cell_type": "code",
   "execution_count": null,
   "id": "0830f4ea",
   "metadata": {},
   "outputs": [],
   "source": []
  }
 ],
 "metadata": {
  "kernelspec": {
   "display_name": "ml_model_venv",
   "language": "python",
   "name": "python3"
  },
  "language_info": {
   "codemirror_mode": {
    "name": "ipython",
    "version": 3
   },
   "file_extension": ".py",
   "mimetype": "text/x-python",
   "name": "python",
   "nbconvert_exporter": "python",
   "pygments_lexer": "ipython3",
   "version": "3.12.3"
  }
 },
 "nbformat": 4,
 "nbformat_minor": 5
}
