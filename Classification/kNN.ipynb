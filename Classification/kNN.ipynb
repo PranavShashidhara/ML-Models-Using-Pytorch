{
 "cells": [
  {
   "cell_type": "markdown",
   "id": "eff24109",
   "metadata": {},
   "source": [
    "# kNN method    "
   ]
  },
  {
   "cell_type": "code",
   "execution_count": 13,
   "id": "80dabc9b",
   "metadata": {},
   "outputs": [
    {
     "name": "stdout",
     "output_type": "stream",
     "text": [
      "Train shape: torch.Size([120, 4]) torch.Size([120, 1])\n",
      "Val shape: torch.Size([30, 4]) torch.Size([30, 1])\n"
     ]
    }
   ],
   "source": [
    "import torch \n",
    "import numpy as np \n",
    "import sklearn.datasets as ds\n",
    "import sklearn.model_selection as ms \n",
    "import sklearn.preprocessing as preprocess\n",
    "import collections as col \n",
    "\n",
    "np.random.seed(42)\n",
    "iris_df = ds.load_iris()\n",
    "X = iris_df.data\n",
    "y = iris_df.target\n",
    "\n",
    "X_train, X_val, y_train, y_val = ms.train_test_split(X, y, test_size=0.2, random_state=42, stratify=y)\n",
    "scaler = preprocess.StandardScaler()\n",
    "X_train = torch.tensor(scaler.fit_transform(X_train), dtype=torch.float32)\n",
    "X_val = torch.tensor(scaler.transform(X_val), dtype=torch.float32)\n",
    "y_train = torch.tensor(y_train, dtype=torch.float32).reshape(-1, 1)\n",
    "y_val = torch.tensor(y_val, dtype=torch.float32).reshape(-1, 1)\n",
    "\n",
    "print(\"Train shape:\", X_train.shape, y_train.shape)\n",
    "print(\"Val shape:\", X_val.shape, y_val.shape)"
   ]
  },
  {
   "cell_type": "code",
   "execution_count": 14,
   "id": "7604b464",
   "metadata": {},
   "outputs": [
    {
     "name": "stdout",
     "output_type": "stream",
     "text": [
      "Validation Accuracy: 0.9666666666666667\n"
     ]
    }
   ],
   "source": [
    "def knn_predict(X_train, y_train, X_test, y_test, k=5):\n",
    "    y_pred = []\n",
    "    for i in range(X_test.shape[0]):\n",
    "        # Euclidean distances of all points from the test point\n",
    "        distances = torch.norm(X_train -X_test[i], dim=1)\n",
    "\n",
    "        # get indices of k nearest neighbhors\n",
    "        _, idx = torch.topk(distances, k, largest=False) \n",
    "\n",
    "        # Get labels of k nearest neighbhors and find the most common label\n",
    "        nearest_labels = y_train[idx]\n",
    "        # Majority voting\n",
    "        most_common = col.Counter(nearest_labels).most_common(1)[0][0]\n",
    "        y_pred.append(most_common)\n",
    "    return torch.tensor(y_pred, dtype=torch.float32).reshape(-1, 1)\n",
    "\n",
    "k = 5\n",
    "y_pred = knn_predict(X_train, y_train, X_val, y_val, k=k)\n",
    "\n",
    "accuracy = (y_pred == y_val).sum().item() / len(y_val)\n",
    "print(\"Validation Accuracy:\", accuracy)"
   ]
  }
 ],
 "metadata": {
  "kernelspec": {
   "display_name": "ml_model_venv",
   "language": "python",
   "name": "python3"
  },
  "language_info": {
   "codemirror_mode": {
    "name": "ipython",
    "version": 3
   },
   "file_extension": ".py",
   "mimetype": "text/x-python",
   "name": "python",
   "nbconvert_exporter": "python",
   "pygments_lexer": "ipython3",
   "version": "3.12.3"
  }
 },
 "nbformat": 4,
 "nbformat_minor": 5
}
