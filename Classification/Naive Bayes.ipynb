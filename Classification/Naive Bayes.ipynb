{
 "cells": [
  {
   "cell_type": "code",
   "execution_count": 1,
   "id": "825be966",
   "metadata": {},
   "outputs": [],
   "source": [
    "import torch\n",
    "from sklearn.datasets import make_classification\n",
    "from sklearn.model_selection import train_test_split\n",
    "from sklearn.preprocessing import StandardScaler\n",
    "from sklearn.metrics import accuracy_score, classification_report, confusion_matrix\n",
    "\n",
    "X, y = make_classification(\n",
    "    n_samples=1000,      # number of samples\n",
    "    n_features=10,       # number of features\n",
    "    n_informative=8,     # informative features\n",
    "    n_redundant=2,       # redundant features\n",
    "    n_classes=3,         # number of classes\n",
    "    random_state=42\n",
    ")\n",
    "\n",
    "X_train, X_val, y_train, y_val = train_test_split(\n",
    "    X, y, test_size=0.2, random_state=42, stratify=y\n",
    ")\n",
    "\n",
    "scaler = StandardScaler()\n",
    "X_train = scaler.fit_transform(X_train)\n",
    "X_val = scaler.transform(X_val)"
   ]
  },
  {
   "cell_type": "code",
   "execution_count": null,
   "id": "55a8d11f",
   "metadata": {},
   "outputs": [],
   "source": [
    "import torch \n",
    "import torch.nn as nn \n",
    "\n",
    "class GaussianNB_PyTorch:\n",
    "    def __init__(self):\n",
    "        self.class_means = None\n",
    "        self.class_vars = None\n",
    "        self.class_priors = None\n",
    "        self.classes = None\n",
    "\n",
    "    def fit(self, X, y):\n",
    "        X = torch.tensor(X, dtype=torch.float32)\n",
    "        y = torch.tensor(y, dtype=torch.long)\n",
    "        self.classes = torch.unique(y)\n",
    "        n_features = X.shape[1]\n",
    "        n_classes = len(self.classes)\n",
    "\n",
    "        self.class_means = torch.zeros((n_classes, n_features))\n",
    "        self.class_vars = torch.zeros((n_classes, n_features))\n",
    "        self.class_priors = torch.zeros(n_classes)\n",
    "\n",
    "        for idx, c in enumerate(self.classes):\n",
    "            X_c = X[y == c]\n",
    "            self.class_means[idx] = X_c.mean(dim=0)\n",
    "            self.class_vars[idx] = X_c.var(dim=0) + 1e-6  \n",
    "            self.class_priors[idx] = X_c.shape[0] / X.shape[0]\n",
    "\n",
    "    def _gaussian_log_prob(self, X, mean, var):\n",
    "        # log Gaussian probability\n",
    "        return -0.5 * torch.sum(torch.log(2 * torch.pi * var) + ((X - mean)**2) / var, dim=1)\n",
    "\n",
    "    def predict(self, X):\n",
    "        X = torch.tensor(X, dtype=torch.float32)\n",
    "        log_posteriors = []\n",
    "\n",
    "        for idx, c in enumerate(self.classes):\n",
    "            log_prior = torch.log(self.class_priors[idx])\n",
    "            log_likelihood = self._gaussian_log_prob(X, self.class_means[idx], self.class_vars[idx])\n",
    "            log_posteriors.append(log_prior + log_likelihood)\n",
    "\n",
    "        log_posteriors = torch.stack(log_posteriors, dim=1)\n",
    "        preds = torch.argmax(log_posteriors, dim=1)\n",
    "        return preds"
   ]
  },
  {
   "cell_type": "code",
   "execution_count": 19,
   "id": "e4a383ee",
   "metadata": {},
   "outputs": [
    {
     "name": "stdout",
     "output_type": "stream",
     "text": [
      "Validation Accuracy: 0.755\n",
      "\n",
      "Classification Report:\n",
      "               precision    recall  f1-score   support\n",
      "\n",
      "           0       0.81      0.84      0.82        67\n",
      "           1       0.69      0.76      0.72        67\n",
      "           2       0.77      0.67      0.72        66\n",
      "\n",
      "    accuracy                           0.76       200\n",
      "   macro avg       0.76      0.75      0.75       200\n",
      "weighted avg       0.76      0.76      0.75       200\n",
      "\n",
      "\n",
      "Confusion Matrix:\n",
      " [[56  7  4]\n",
      " [ 7 51  9]\n",
      " [ 6 16 44]]\n"
     ]
    }
   ],
   "source": [
    "model = GaussianNB_PyTorch()\n",
    "model.fit(X_train, y_train)\n",
    "\n",
    "y_pred = model.predict(X_val)\n",
    "y_val = y_val.reshape(-1)  # if y_val is (n_samples,1)\n",
    "y_pred_np = y_pred.detach().cpu().numpy().reshape(-1)  # flatten in case it's 2D\n",
    "accuracy = accuracy_score(y_val, y_pred_np)\n",
    "print(\"Validation Accuracy:\", accuracy)\n",
    "print(\"\\nClassification Report:\\n\", classification_report(y_val, y_pred_np))\n",
    "print(\"\\nConfusion Matrix:\\n\", confusion_matrix(y_val, y_pred_np))"
   ]
  },
  {
   "cell_type": "code",
   "execution_count": null,
   "id": "71e0d750",
   "metadata": {},
   "outputs": [],
   "source": []
  }
 ],
 "metadata": {
  "kernelspec": {
   "display_name": "ml_model_venv",
   "language": "python",
   "name": "python3"
  },
  "language_info": {
   "codemirror_mode": {
    "name": "ipython",
    "version": 3
   },
   "file_extension": ".py",
   "mimetype": "text/x-python",
   "name": "python",
   "nbconvert_exporter": "python",
   "pygments_lexer": "ipython3",
   "version": "3.12.3"
  }
 },
 "nbformat": 4,
 "nbformat_minor": 5
}
